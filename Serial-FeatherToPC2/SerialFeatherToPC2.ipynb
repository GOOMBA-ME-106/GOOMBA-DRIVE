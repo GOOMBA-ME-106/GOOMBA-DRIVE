{
 "cells": [
  {
   "cell_type": "markdown",
   "metadata": {},
   "source": [
    "# Getting data from your Feather kit into a Python program on the PC"
   ]
  },
  {
   "cell_type": "markdown",
   "metadata": {},
   "source": [
    "Written by Eric B. Wertz (eric@edushields.com)\n",
    "\n",
    "Last modified 26-Apr-2020"
   ]
  },
  {
   "cell_type": "markdown",
   "metadata": {},
   "source": [
    "It may or not be obvious, but you can send data from your Feather hardware kit that a Python program running on your PC can read.  If you think about it, this almost _has_ to be possible, because the strings inside of ```print()``` statements in CircuitPython (CP) running on your Feather gets printed out the Serial window of Mu running on the PC.  So, clearly there's a way to get that data back to the PC.\n",
    "\n",
    "This is not the only way to send data from the Feather to the PC, but it's probably the easiest to relate to and understand.  Some alternatives are to use some sort of (usually) non-human-readable binary protocol, or a different protocol (over USB or not) than a virtual serial communications port.\n",
    "\n",
    "## The downside\n",
    "\n",
    "The connection used for ```print()```-ing is exactly the one that you can use to communicate your data from the Feather to the PC.  The problem is that only one program can read this data from the Feather, and Mu grabs it if you are using the Serial window.  So, as long as you don't use Mu's Serial feature, some other program can grab this output just fine.\n",
    "\n",
    "Usually what happens is when one program is trying to use that data stream, the other one will fail if it tries to grab it also, and give you some type of error that it's busy.  Fortunely it's very clear when this happens, rather than something weirder happening -- like just silently not receiving data.  Once one program closes its connection, another program can then open it.  So even if the Serial window _is_ open, just close it and re-start your data capturing program on the PC-side, and you'll be fine.\n",
    "\n",
    "There is another solution which requires an additional ($5-20), special USB cable that connects directly from the Feather back to the PC.  The newer (v1.1) EduShields TriplerBaseboard has a place to (more easily) connect this cable, but I haven't even tested that part of the baseboard yet to it's unclear if the connector wiring works.  I ordered a few of these from two different vendors in China at the beginning of the year, but none of them ever got here and I'm still trying to get refunds for some of them.\n",
    "\n",
    "So, just to be clear -- this is *not* to say that you cannot use Mu at all -- you just can't use the Serial window feature.  You can continue to use it to edit your program, save new versions, etc.  Again, just don't use Serial if you're going to have your own program capture this data instead.\n",
    "\n",
    "The other significant downside of using they way of exchanging data is that it is a bit rate-limited.  It's probably limited to just a couple of megabits per second.  Having to convert binary data into strings and back out again probably doesn't help performance either."
   ]
  },
  {
   "cell_type": "markdown",
   "metadata": {},
   "source": [
    "## Sending the data out from the CircuitPython (CP) side\n",
    "\n",
    "If you wanted to continuously send light sensor data to the PC, maybe to plot in JupyterLab using ```matplotlib```, you'd just run a CircuitPython program like the following on your Feather board.  Note that this will _NOT_ run in Python3 on the PC.\n",
    "\n",
    "If you're using straight CircuitPython and not the EduShields layer for ME30, you'd be using ```board.<PIN>```, ```AnalogIn``` and its ```value``` accessor directly."
   ]
  },
  {
   "cell_type": "raw",
   "metadata": {},
   "source": [
    "import time\n",
    "import conf_interactwing_v1_1_FM4E as iwing\n",
    "import api_eduboards as api\n",
    "\n",
    "als = api.ALS(iwing.PIN_ALS)\n",
    "\n",
    "while True:\n",
    "    print(als.value())\n",
    "    time.sleep(0.1)"
   ]
  },
  {
   "cell_type": "markdown",
   "metadata": {},
   "source": [
    "Go ahead and try this now.  Get out your ME30 kit, put this code in as your ```code.py``` and run it."
   ]
  },
  {
   "cell_type": "markdown",
   "metadata": {},
   "source": [
    "## Installing software to allow USB data capture from the PC\n",
    "\n",
    "To capture this data on the PC side, you need a program that opens up a communications connection over USB to the kit to capture this printed-out data.  Assuming that you're going to be writing your own, you first need to install a library called \"pyserial\" into your Python environment.\n",
    "\n",
    "Assuming you're using Anaconda/JupyterLab, you first have to run *Anaconda Prompt (anaconda3)* from the Start Menu on Windows, or a regular Terminal window on MacOS.\n",
    "\n",
    "Inside of this window run ```conda install -c anaconda pyserial```. Assuming that you have an internet connection you should get some messages that lead you to believe that it was installed successfully.  Sometimes it tells you that ```conda``` is out-of-date, and you can run the suggested command after this is done.\n",
    "\n",
    "Rather than Anaconda/JupyterLab, if you're going to use Mu to run this on the PC in Python3 Mode, I don't think that you have to install anything, because I think that Mu may have already done this for you.\n",
    "\n",
    "However you're running Python3, you just need to be able to just run the ```import serial``` without an error, and you're ready."
   ]
  },
  {
   "cell_type": "markdown",
   "metadata": {},
   "source": [
    "## General strategy\n",
    "\n",
    "So far you've learned two ways to get data into your program from the outside world -- ```input()``` from the keyboard, and reading data from a file (```open(), read()/readline(), close()```).  Both are kind-of similar -- each eventually yields a string, or something (bytes) that can be turned into one.\n",
    "\n",
    "Getting data from your Feather board over the \"serial port\" is a third way.  Not terribly different from the two that you already know, but not substantially more difficult.\n",
    "\n",
    "Similar to opening a file, you have to be able to state what (file) it is that you want to connect to (that is, to \"open\").  Windows and MacOS have different ways of naming this connection resource.  On MacOS, it's just a specially named file.  On Windows it's called a \"COM port\".  There's no reason why you wouldn't be able to connect multiple Feather boards to your PC, but you need to understand how to refer to each one.\n",
    "\n",
    "My recommendation is to write the program on the PC side and initially use ```input()``` to get the data, then do whatever needs to be done.  Once that's working you just change the PC side (ideally you just change one line of code, if you do it intelligently) to call the other input function, and then run the CP program to replace the human.  Then you're pretty much done.\n",
    "\n",
    "Note that while you lose the ability to use ```print()``` statements in the CP program for debugging, there's no such limitation on the PCs-side, because there's no program capturing its output.  So it still easy to debug/trace what's going on on the PC-side as normal."
   ]
  },
  {
   "cell_type": "markdown",
   "metadata": {},
   "source": [
    "## Determining the input file on MacOS\n",
    "\n",
    "There's a fancier way of finding out this thing's name by using some additional functions in the _pyserial_ library, but we're going to do it the more straight-forward way, which also shows you how your PC's OS deals with external hardware more generally.\n",
    "\n",
    "On MacOS, for every USB device that's connected, a file is automagically created in your ```/dev``` directory that gives programs access to that device.  It's usually called ```/dev/tty.usbmodem<BLAH>```.  You can either use your Finder to find it, or you can open a Terminal window and enter ```ls -l /dev/tty.usbmodem*```, and it'll tell you.  Hopefully there will only be one of these on your system, so it won't be ambiguous.  This is the (device) file that you need to open to get to your kit.\n",
    "\n",
    "If there _is_ more than one file listed, check the write date on the files that are listed, and the one we care about should have a timestamp on it that corresponds to when your kit was last plugged-in.  That's the one that you care about.\n",
    "\n",
    "![MacOS listing COM ports.](com-ports-macos.png \"Figure 1: MacOS terminal windows showing USB serial ports before/after connecting Feather.\")"
   ]
  },
  {
   "cell_type": "markdown",
   "metadata": {},
   "source": [
    "## Determining the input \"file\" on Windows\n",
    "\n",
    "On Windows, you have to determine the name of communications (COM) port that connects to your kit.  You have to open up the Device Manager app and there's a category called _Ports (COM and LPT)_ which *only* exists if you have at least one of these type of devices connected.\n",
    "\n",
    "If none are connected, this sub-category doesn't even show up, as shown below.\n",
    "![Windows Device Manager w/o COM ports.](com-ports-none.png \"Figure 2: Windows Device Manager showing no active COM ports.\")\n",
    "\n",
    "If one or more devices are connected, you should see this instead:\n",
    "\n",
    "![Windows Device Manager with Ports category.](com-ports-CROPPED.png \"Figure 3: Windows Device Manager showing COM category.\")\n",
    "\n",
    "Click on the plus symbol next to the label to show you the list of them.  You should see something like the following.\n",
    "\n",
    "![Windows Device Manager listing Ports.](com-portlist.png \"Figure 4: Windows Device Manager showing COM ports.\")\n",
    "\n",
    "In my case, _currently_ my Feather kit is connected to ```COM8```.  I say _currently_ because after the kit is disconnected, or after a suspend/sleep or reboot, the COM port may switch to a different one, so you will have to update your code if/when it changes."
   ]
  },
  {
   "cell_type": "markdown",
   "metadata": {},
   "source": [
    "## Let's shuddup and do it\n",
    "\n",
    "If you're not already running the light sensor CP program, do that now -- with no Serial window open in Mu.  If you're already running the CP program, ensure that the Serial window is close.  With the Serial window closed, I believe that the program will continue to generate that stream of floating point data, it's just that nothing is trying to read it.\n",
    "\n",
    "Then run the following code on the PC-side.  You may/should just be able to run this directly in JupyterLab if that's how you're reading this right now.  _Note that you will almost certainly have to edit where setting the ```COM_DEVICEFILE``` is done."
   ]
  },
  {
   "cell_type": "code",
   "execution_count": null,
   "metadata": {},
   "outputs": [],
   "source": [
    "import serial\n",
    "\n",
    "COM_DEVICEFILE = \"COM8\"                    # Windoze example\n",
    "#COM_DEVICEFILE = \"/dev/tty.usbmodem146201\" # macOS example\n",
    "\n",
    "ser = serial.Serial(COM_DEVICEFILE)\n",
    "\n",
    "# Block while reading from the serial port until a \\r\\n is received, then\n",
    "# return the collected chars as a string (without the EOL delimiter).\n",
    "def com_port_readline():\n",
    "    last_c = None\n",
    "    s      = \"\"\n",
    "\n",
    "    while True:\n",
    "        c = ser.read().decode(\"utf-8\")\n",
    "        if c == '\\r':\n",
    "            pass\n",
    "        elif (c == '\\n') and (last_c == '\\r'):\n",
    "            return s\n",
    "        else:\n",
    "            s = s + c\n",
    "        last_c = c\n",
    "    return s\n",
    "\n",
    "while True:\n",
    "    s = com_port_readline()\n",
    "    print(\"From kit:\", s)"
   ]
  },
  {
   "cell_type": "markdown",
   "metadata": {},
   "source": [
    "## Getting scary-fancy\n",
    "\n",
    "You can theoretically use any input device on the kit to control a program on the PC from \"any\" microcontroller this way, as long as the host program knows how to read strings in from a COM port.  This often isn't the case for a lot of programs out there that only know how to get their input from either a \"real\" data file or from a USB keyboard. \n",
    "\n",
    "It's also possible to have your Feather directly emulate a USB mouse or USB keyboard using the ```Mouse``` or ```Keyboard``` class in CircuitPython, but that's different from this method and I won't discuss it here.  However, if you want to learn more about that, see https://learn.adafruit.com/circuitpython-essentials/circuitpython-hid-keyboard-and-mouse.  YOu can use any combination of input devices from the kit to control the mouse to fake moving in the X and Y axes.\n",
    "\n",
    "Using this Keyboard class really does emulate a human being typing on the keyboard, so your program (or any other) can then use ```input()``` to read data.  The PC can't tell the difference between your home-made keyboard and/or mouse and one that you bought.  Noice!"
   ]
  }
 ],
 "metadata": {
  "kernelspec": {
   "display_name": "Python 3",
   "language": "python",
   "name": "python3"
  },
  "language_info": {
   "codemirror_mode": {
    "name": "ipython",
    "version": 3
   },
   "file_extension": ".py",
   "mimetype": "text/x-python",
   "name": "python",
   "nbconvert_exporter": "python",
   "pygments_lexer": "ipython3",
   "version": "3.8.5"
  }
 },
 "nbformat": 4,
 "nbformat_minor": 4
}
